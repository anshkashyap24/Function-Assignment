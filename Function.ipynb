{
  "nbformat": 4,
  "nbformat_minor": 0,
  "metadata": {
    "colab": {
      "provenance": []
    },
    "kernelspec": {
      "name": "python3",
      "display_name": "Python 3"
    },
    "language_info": {
      "name": "python"
    }
  },
  "cells": [
    {
      "cell_type": "markdown",
      "source": [
        "1. What is the difference between a function and a method in Python?\n",
        " - A function in Python is a reusable block of code that performs a specific task. It is defined using the def keyword and can take parameters, execute statements, and return a value. Functions help in modular programming by breaking a program into smaller, manageable parts.\n",
        "\n",
        " - A method in Python is a function that is associated with an object and defined within a class. It operates on the attributes of the class and typically takes self as its first parameter to refer to the instance.\n",
        "\n",
        "2. Explain the concept of function arguments and parameters in Python.\n",
        " - In Python, parameters and arguments are used to pass data to functions.\n",
        " - Parameters are the variables listed in the function definition.\n",
        " - Arguments are the actual values passed to a function when calling it.\n",
        "\n",
        "3. What are the different ways to define and call a function in Python?\n",
        " - 1. Standard Function Definition and Call\n",
        " - 2. Function with Default Arguments\n",
        " - 3. Function with Positional and Keyword Arguments\n",
        " - 4. Lambda (Anonymous) Function and many more.\n",
        "\n",
        "4. What is the purpose of the `return` statement in a Python function?\n",
        " - The return statement in Python is used to send a value from a function back to the caller. It terminates the function execution and allows the function to produce an output.\n",
        "\n",
        "5. What are iterators in Python and how do they differ from iterables?\n",
        " - In Python, iterators and iterables are closely related but serve different purposes in iteration.\n",
        " - An iterable is any object that can be looped over (iterated). It contains data that can be accessed one element at a time.\n",
        " - An iterator is an object that remembers its state during iteration and returns data one element at a time when next() is called iterator.\n",
        "\n",
        "6.  Explain the concept of generators in Python and how they are defined.\n",
        " - A generator in Python is a special type of iterator that allows you to iterate over data lazily (one item at a time) instead of storing everything in memory. Generators are useful when working with large datasets because they save memory and improve performance.\n",
        "\n",
        "7. What are the advantages of using generators over regular functions?\n",
        " - Generators provide several benefits over regular functions, especially when handling large data or streaming data efficiently. Below are the key advantages:\n",
        " - Memory efficiency\n",
        " - Faster execution\n",
        " - Simplifise code\n",
        " - Supports infinite sequences , etc\n",
        "\n",
        "8. What is a lambda function in Python and when is it typically used?\n",
        " - Lambda function is a anonymous function and it is used to write code in a single line .\n",
        "\n",
        "9. Explain the purpose and usage of the `map()` function in Python.\n",
        " - The map() function is used to apply a function to each item of an iterable list, tuple, etc. and return an iterator with the results. It helps in functional programming by making code more concise and readable.\n",
        "\n",
        "10. What is the difference between `map()`, `reduce()`, and `filter()` functions in Python?\n",
        " - map() - Applies a function to each element.\n",
        " - filter() - Filters elements based on a condition.\n",
        " - reduce() - Combines elements into a single value.\n",
        "\n",
        "11.  Using pen & Paper write the internal mechanism for sum operation using  reduce function on this given\n",
        "list:[47,11,42,13];\n",
        "\n",
        "\n",
        "\n"
      ],
      "metadata": {
        "id": "81yOTMpo0H_P"
      }
    },
    {
      "cell_type": "code",
      "source": [
        "# 1. Write a Python function that takes a list of numbers as input and returns the sum of all even numbers in the list.\n",
        "def sum_even_numbers(numbers):\n",
        "    even_sum = 0\n",
        "    for no in numbers:\n",
        "        if no % 2 == 0:\n",
        "          even_sum += no\n",
        "    return even_sum\n",
        "\n",
        "numbers = [47, 11, 42, 13 , 4 , 12 , 98]\n",
        "result = sum_even_numbers(numbers)\n",
        "print(result)\n"
      ],
      "metadata": {
        "colab": {
          "base_uri": "https://localhost:8080/"
        },
        "id": "Srq1_-yc6TNg",
        "outputId": "6b9bb4c5-8462-45b6-af3f-b8d82e2710c1"
      },
      "execution_count": 2,
      "outputs": [
        {
          "output_type": "stream",
          "name": "stdout",
          "text": [
            "156\n"
          ]
        }
      ]
    },
    {
      "cell_type": "code",
      "source": [
        "# 2. Create a Python function that accepts a string and returns the reverse of that string.\n",
        "def reverse_string(s):\n",
        "    return s[::-1]\n",
        "\n",
        "# Example usage\n",
        "print(reverse_string(\"pwskills\"))\n",
        "\n"
      ],
      "metadata": {
        "colab": {
          "base_uri": "https://localhost:8080/"
        },
        "id": "4tiksd4S6P2q",
        "outputId": "fce62430-62a8-455c-e159-e4bbab6763aa"
      },
      "execution_count": 4,
      "outputs": [
        {
          "output_type": "stream",
          "name": "stdout",
          "text": [
            "sllikswp\n"
          ]
        }
      ]
    },
    {
      "cell_type": "code",
      "source": [
        "# 3. Implement a Python function that takes a list of integers and returns a new list containing the squares of each numbers.\n",
        "def square_numbers(numbers):\n",
        "    squared_numbers = [x**2 for x in numbers]\n",
        "    return squared_numbers\n",
        "\n",
        "numbers = [1, 2, 3, 4, 5]\n",
        "result = square_numbers(numbers)\n",
        "print(result)"
      ],
      "metadata": {
        "colab": {
          "base_uri": "https://localhost:8080/"
        },
        "id": "3j6hPrm_8fMq",
        "outputId": "39d61a0c-fa56-4a24-f2be-722f99c72ea1"
      },
      "execution_count": 5,
      "outputs": [
        {
          "output_type": "stream",
          "name": "stdout",
          "text": [
            "[1, 4, 9, 16, 25]\n"
          ]
        }
      ]
    },
    {
      "cell_type": "code",
      "source": [
        "# 4. Write a Python function that checks if a given number is prime or not from 1 to 200.\n",
        "def prime_numbers(n):\n",
        "    if n < 2:\n",
        "        return False  # 0 and 1 are not prime\n",
        "    for i in range(2, int(n ** 0.5) + 1):  # Check divisibility up to √n\n",
        "        if n % i == 0:\n",
        "            return False\n",
        "    return True\n",
        "\n",
        "for num in range(1, 201):\n",
        "    if prime_numbers(num):\n",
        "        print(f\"{num} is a prime number\")\n",
        "\n"
      ],
      "metadata": {
        "colab": {
          "base_uri": "https://localhost:8080/"
        },
        "id": "PSc0FAjv9Hgr",
        "outputId": "6d2a59ab-d54f-4022-897d-fa13a36480b5"
      },
      "execution_count": 6,
      "outputs": [
        {
          "output_type": "stream",
          "name": "stdout",
          "text": [
            "2 is a prime number\n",
            "3 is a prime number\n",
            "5 is a prime number\n",
            "7 is a prime number\n",
            "11 is a prime number\n",
            "13 is a prime number\n",
            "17 is a prime number\n",
            "19 is a prime number\n",
            "23 is a prime number\n",
            "29 is a prime number\n",
            "31 is a prime number\n",
            "37 is a prime number\n",
            "41 is a prime number\n",
            "43 is a prime number\n",
            "47 is a prime number\n",
            "53 is a prime number\n",
            "59 is a prime number\n",
            "61 is a prime number\n",
            "67 is a prime number\n",
            "71 is a prime number\n",
            "73 is a prime number\n",
            "79 is a prime number\n",
            "83 is a prime number\n",
            "89 is a prime number\n",
            "97 is a prime number\n",
            "101 is a prime number\n",
            "103 is a prime number\n",
            "107 is a prime number\n",
            "109 is a prime number\n",
            "113 is a prime number\n",
            "127 is a prime number\n",
            "131 is a prime number\n",
            "137 is a prime number\n",
            "139 is a prime number\n",
            "149 is a prime number\n",
            "151 is a prime number\n",
            "157 is a prime number\n",
            "163 is a prime number\n",
            "167 is a prime number\n",
            "173 is a prime number\n",
            "179 is a prime number\n",
            "181 is a prime number\n",
            "191 is a prime number\n",
            "193 is a prime number\n",
            "197 is a prime number\n",
            "199 is a prime number\n"
          ]
        }
      ]
    },
    {
      "cell_type": "code",
      "source": [
        "# 5. Create an iterator class in Python that generates the Fibonacci sequence up to a specified number of terms\n",
        "class FibonacciIterator:\n",
        "    def __init__(self, n_terms):\n",
        "        self.n_terms = n_terms  # Total terms to generate\n",
        "        self.a, self.b = 0, 1   # First two Fibonacci numbers\n",
        "        self.count = 0          # To track the number of terms generated\n",
        "\n",
        "    def __iter__(self):\n",
        "        return self  # Returns the iterator itself\n",
        "\n",
        "    def __next__(self):\n",
        "        if self.count >= self.n_terms:  # Stop iteration after n_terms\n",
        "            raise StopIteration\n",
        "\n",
        "        if self.count == 0:\n",
        "            self.count += 1\n",
        "            return self.a  # Return first Fibonacci number (0)\n",
        "        elif self.count == 1:\n",
        "            self.count += 1\n",
        "            return self.b  # Return second Fibonacci number (1)\n",
        "\n",
        "        # Generate next Fibonacci number\n",
        "        fib_num = self.a + self.b\n",
        "        self.a, self.b = self.b, fib_num  # Update previous numbers\n",
        "        self.count += 1\n",
        "        return fib_num  # Return current Fibonacci number\n",
        "\n",
        "# Example usage\n",
        "fib_iterator = FibonacciIterator(10)  # Generate 10 Fibonacci numbers\n",
        "for num in fib_iterator:\n",
        "    print(num, end=\" \")\n",
        "\n"
      ],
      "metadata": {
        "colab": {
          "base_uri": "https://localhost:8080/"
        },
        "id": "6VNTawrb-J1f",
        "outputId": "9ba91a55-c63b-4be8-d192-9e846720db75"
      },
      "execution_count": 7,
      "outputs": [
        {
          "output_type": "stream",
          "name": "stdout",
          "text": [
            "0 1 1 2 3 5 8 13 21 34 "
          ]
        }
      ]
    },
    {
      "cell_type": "code",
      "source": [
        "#6. Write a generator function in Python that yields the powers of 2 up to a given exponent\n",
        "def powers_of_two(max_exponent):\n",
        "    for exp in range(max_exponent + 1):\n",
        "        yield 2 ** exp  # Generate 2^exp\n",
        "\n",
        "# Example usage\n",
        "for power in powers_of_two(5):\n",
        "    print(power, end=\" \")\n",
        "\n"
      ],
      "metadata": {
        "colab": {
          "base_uri": "https://localhost:8080/"
        },
        "id": "cqm3MAgv-nuJ",
        "outputId": "bf48b280-0da8-4911-bbec-836d9dbc5f4b"
      },
      "execution_count": 8,
      "outputs": [
        {
          "output_type": "stream",
          "name": "stdout",
          "text": [
            "1 2 4 8 16 32 "
          ]
        }
      ]
    },
    {
      "cell_type": "code",
      "source": [
        "# 7.  Implement a generator function that reads a file line by line and yields each line as a string.\n",
        "def read_file_lines(file_path):\n",
        "    with open(file_path, 'r') as file:\n",
        "        for line in file:\n",
        "            yield line.strip()"
      ],
      "metadata": {
        "id": "A-h4FLgn_BgW"
      },
      "execution_count": 12,
      "outputs": []
    },
    {
      "cell_type": "code",
      "source": [
        "# 8.  Use a lambda function in Python to sort a list of tuples based on the second element of each tuple.\n",
        "data = [(1, 5), (3, 2), (2, 8), (4, 1)]\n",
        "sorted_data = sorted(data, key=lambda x: x[1])\n",
        "print(sorted_data)"
      ],
      "metadata": {
        "colab": {
          "base_uri": "https://localhost:8080/"
        },
        "id": "KNY60JVC_-nQ",
        "outputId": "03b51396-c8b9-4d9c-9728-8d97fd203d5f"
      },
      "execution_count": 13,
      "outputs": [
        {
          "output_type": "stream",
          "name": "stdout",
          "text": [
            "[(4, 1), (3, 2), (1, 5), (2, 8)]\n"
          ]
        }
      ]
    },
    {
      "cell_type": "code",
      "source": [
        "# 9.Write a Python program that uses `map()` to convert a list of temperatures from Celsius to Fahrenheit.\n",
        "celsius_temperatures = [0, 10, 20, 30, 40]\n",
        "fahrenheit_temperatures = list(map(lambda c: (c * 9/5) + 32, celsius_temperatures))\n",
        "print(fahrenheit_temperatures)\n"
      ],
      "metadata": {
        "colab": {
          "base_uri": "https://localhost:8080/"
        },
        "id": "gNVXplFKAIYr",
        "outputId": "0809d3e7-192f-46ba-b5a0-0868f56d048c"
      },
      "execution_count": 17,
      "outputs": [
        {
          "output_type": "stream",
          "name": "stdout",
          "text": [
            "[32.0, 50.0, 68.0, 86.0, 104.0]\n"
          ]
        }
      ]
    },
    {
      "cell_type": "code",
      "source": [
        "# 10. Create a Python program that uses `filter()` to remove all the vowels from a given string.\n",
        "def remove_vowels(string):\n",
        "    vowels = \"aeiouAEIOU\"\n",
        "    filtered_string = \"\".join(filter(lambda char: char not in vowels, string))\n",
        "    return filtered_string\n",
        "string = \"Hello, World!\"\n",
        "result = remove_vowels(string)\n",
        "print(result)\n"
      ],
      "metadata": {
        "colab": {
          "base_uri": "https://localhost:8080/"
        },
        "id": "Fxx_jaLrASbQ",
        "outputId": "dad56193-eaac-4242-e671-7621fc24f3ad"
      },
      "execution_count": 19,
      "outputs": [
        {
          "output_type": "stream",
          "name": "stdout",
          "text": [
            "Hll, Wrld!\n"
          ]
        }
      ]
    },
    {
      "cell_type": "code",
      "source": [
        "# 11) Imagine an accounting routine used in a book shop. It works on a list with sublists, which look like this\n",
        "#Write a Python program, which returns a list with 2-tuples. Each tuple consists of the order number and the\n",
        "#product of the price per item and the quantity. The product should be increased by 10,- € if the value of the\n",
        "#order is smaller than 100,00 €.\n",
        "\n",
        "#Write a Python program using lambda and map.\n",
        "\n",
        "orders = [\n",
        "    [34587, \"Book A\", 4, 40.95],\n",
        "    [98762, \"Book B\", 5, 56.80],\n",
        "    [77226, \"Book C\", 3, 32.95],\n",
        "    [88112, \"Book D\", 3, 24.95]\n",
        "]\n",
        "\n",
        "# Using map and lambda to process orders\n",
        "final_orders = list(map(lambda order: (order[0],\n",
        "                                       order[2] * order[3] if order[2] * order[3] >= 100\n",
        "                                       else order[2] * order[3] + 10),\n",
        "                        orders))\n",
        "\n",
        "# Output the final order list\n",
        "print(final_orders)\n"
      ],
      "metadata": {
        "colab": {
          "base_uri": "https://localhost:8080/"
        },
        "id": "Ah_o_aQMArGi",
        "outputId": "3c0c4bcc-fee4-4418-9497-35b59f1e21dd"
      },
      "execution_count": 20,
      "outputs": [
        {
          "output_type": "stream",
          "name": "stdout",
          "text": [
            "[(34587, 163.8), (98762, 284.0), (77226, 108.85000000000001), (88112, 84.85)]\n"
          ]
        }
      ]
    },
    {
      "cell_type": "code",
      "source": [],
      "metadata": {
        "id": "y688ofpRBPK4"
      },
      "execution_count": null,
      "outputs": []
    }
  ]
}